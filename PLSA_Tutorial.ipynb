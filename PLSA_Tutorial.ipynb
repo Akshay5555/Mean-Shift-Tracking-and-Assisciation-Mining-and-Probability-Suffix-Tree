{
 "cells": [
  {
   "cell_type": "code",
   "execution_count": 1,
   "metadata": {},
   "outputs": [],
   "source": [
    "import pandas as pd\n",
    "import numpy as np\n",
    "import matplotlib.pyplot as plt\n",
    "from nltk.corpus import stopwords\n",
    "from sklearn.feature_extraction.text import CountVectorizer, TfidfTransformer;\n",
    "from sklearn.decomposition import NMF;\n",
    "from sklearn.preprocessing import normalize;"
   ]
  },
  {
   "cell_type": "markdown",
   "metadata": {},
   "source": [
    "Link to Dataset - https://www.kaggle.com/therohk/million-headlines"
   ]
  },
  {
   "cell_type": "markdown",
   "metadata": {},
   "source": [
    "### Understanding the Tfidftransformer usage"
   ]
  },
  {
   "cell_type": "code",
   "execution_count": 2,
   "metadata": {},
   "outputs": [],
   "source": [
    "docs=[\"A video of government workers in Puducherry hurriedly throwing the body of a COVID positive man into a pit has caused massive outrage, prompting the administration to order a probe into the incident.\",\n",
    "      \"The COVID pandemic has hit the world and the Vedanta Group business. It has incurred losses in oil, gas and mining sectors.\",\n",
    "      \"Yuvraj Singh was diagnosed with a cancerous tumor in his left lung following India's World Cup triumph in 2011. He had scored 362 runs and claimed 15 wickets in the tournament and was bestowed with the Player of the Tournament award in the end\"\n",
    "     ]"
   ]
  },
  {
   "cell_type": "code",
   "execution_count": 3,
   "metadata": {},
   "outputs": [],
   "source": [
    "#instantiate CountVectorizer()\n",
    "cv=CountVectorizer()\n",
    " \n",
    "# this steps generates word counts for the words in your docs\n",
    "word_count_vector=cv.fit_transform(docs)\n",
    " "
   ]
  },
  {
   "cell_type": "code",
   "execution_count": 4,
   "metadata": {},
   "outputs": [
    {
     "data": {
      "text/plain": [
       "(3, 67)"
      ]
     },
     "execution_count": 4,
     "metadata": {},
     "output_type": "execute_result"
    }
   ],
   "source": [
    "word_count_vector.shape"
   ]
  },
  {
   "cell_type": "code",
   "execution_count": 7,
   "metadata": {},
   "outputs": [
    {
     "data": {
      "text/plain": [
       "array([[0, 0, 0, 1, 0, 0, 0, 1, 0, 0, 1, 0, 1, 0, 0, 0, 0, 0, 1, 0, 0, 1,\n",
       "        0, 0, 0, 1, 1, 1, 0, 0, 2, 0, 0, 0, 0, 1, 1, 0, 2, 0, 1, 1, 0, 1,\n",
       "        0, 1, 1, 1, 1, 0, 0, 0, 0, 3, 1, 1, 0, 0, 0, 0, 1, 0, 0, 0, 1, 0,\n",
       "        0],\n",
       "       [0, 0, 0, 0, 2, 0, 0, 0, 1, 0, 0, 0, 1, 0, 0, 0, 0, 1, 0, 1, 0, 2,\n",
       "        0, 0, 1, 0, 1, 0, 1, 0, 0, 1, 0, 1, 0, 0, 0, 1, 0, 1, 0, 0, 1, 0,\n",
       "        0, 0, 0, 0, 0, 0, 0, 1, 0, 3, 0, 0, 0, 0, 0, 1, 0, 0, 0, 0, 0, 1,\n",
       "        0],\n",
       "       [1, 1, 1, 0, 2, 1, 1, 0, 0, 1, 0, 1, 0, 1, 1, 1, 1, 0, 0, 0, 1, 0,\n",
       "        1, 1, 0, 0, 4, 0, 0, 1, 0, 0, 1, 0, 1, 0, 0, 0, 1, 0, 0, 0, 0, 0,\n",
       "        1, 0, 0, 0, 0, 1, 1, 0, 1, 4, 0, 0, 2, 1, 1, 0, 0, 2, 1, 2, 0, 1,\n",
       "        1]], dtype=int64)"
      ]
     },
     "execution_count": 7,
     "metadata": {},
     "output_type": "execute_result"
    }
   ],
   "source": [
    "word_count_vector.toarray()"
   ]
  },
  {
   "cell_type": "markdown",
   "metadata": {},
   "source": [
    "### TfidfTransformer\n",
    "Transform a count matrix to a normalized tf or tf-idf representation\n",
    "\n",
    "Tf means term-frequency while tf-idf means term-frequency times inverse document-frequency. This is a common term weighting scheme in information retrieval, that has also found good use in document classification.\n",
    "\n",
    "The goal of using tf-idf instead of the raw frequencies of occurrence of a token in a given document is to scale down the impact of tokens that occur very frequently in a given corpus and that are hence empirically less informative than features that occur in a small fraction of the training corpus."
   ]
  },
  {
   "cell_type": "code",
   "execution_count": 8,
   "metadata": {},
   "outputs": [],
   "source": [
    "tfidf_transformer=TfidfTransformer(smooth_idf=True,use_idf=True)\n",
    "tf_idf_vector = tfidf_transformer.fit_transform(word_count_vector)"
   ]
  },
  {
   "cell_type": "code",
   "execution_count": 9,
   "metadata": {},
   "outputs": [
    {
     "data": {
      "text/html": [
       "<div>\n",
       "<style scoped>\n",
       "    .dataframe tbody tr th:only-of-type {\n",
       "        vertical-align: middle;\n",
       "    }\n",
       "\n",
       "    .dataframe tbody tr th {\n",
       "        vertical-align: top;\n",
       "    }\n",
       "\n",
       "    .dataframe thead th {\n",
       "        text-align: right;\n",
       "    }\n",
       "</style>\n",
       "<table border=\"1\" class=\"dataframe\">\n",
       "  <thead>\n",
       "    <tr style=\"text-align: right;\">\n",
       "      <th></th>\n",
       "      <th>tfidf</th>\n",
       "    </tr>\n",
       "  </thead>\n",
       "  <tbody>\n",
       "    <tr>\n",
       "      <th>into</th>\n",
       "      <td>0.365400</td>\n",
       "    </tr>\n",
       "    <tr>\n",
       "      <th>the</th>\n",
       "      <td>0.323717</td>\n",
       "    </tr>\n",
       "    <tr>\n",
       "      <th>of</th>\n",
       "      <td>0.277896</td>\n",
       "    </tr>\n",
       "    <tr>\n",
       "      <th>outrage</th>\n",
       "      <td>0.182700</td>\n",
       "    </tr>\n",
       "    <tr>\n",
       "      <th>puducherry</th>\n",
       "      <td>0.182700</td>\n",
       "    </tr>\n",
       "    <tr>\n",
       "      <th>...</th>\n",
       "      <td>...</td>\n",
       "    </tr>\n",
       "    <tr>\n",
       "      <th>it</th>\n",
       "      <td>0.000000</td>\n",
       "    </tr>\n",
       "    <tr>\n",
       "      <th>left</th>\n",
       "      <td>0.000000</td>\n",
       "    </tr>\n",
       "    <tr>\n",
       "      <th>2011</th>\n",
       "      <td>0.000000</td>\n",
       "    </tr>\n",
       "    <tr>\n",
       "      <th>lung</th>\n",
       "      <td>0.000000</td>\n",
       "    </tr>\n",
       "    <tr>\n",
       "      <th>yuvraj</th>\n",
       "      <td>0.000000</td>\n",
       "    </tr>\n",
       "  </tbody>\n",
       "</table>\n",
       "<p>67 rows × 1 columns</p>\n",
       "</div>"
      ],
      "text/plain": [
       "               tfidf\n",
       "into        0.365400\n",
       "the         0.323717\n",
       "of          0.277896\n",
       "outrage     0.182700\n",
       "puducherry  0.182700\n",
       "...              ...\n",
       "it          0.000000\n",
       "left        0.000000\n",
       "2011        0.000000\n",
       "lung        0.000000\n",
       "yuvraj      0.000000\n",
       "\n",
       "[67 rows x 1 columns]"
      ]
     },
     "execution_count": 9,
     "metadata": {},
     "output_type": "execute_result"
    }
   ],
   "source": [
    "feature_names = cv.get_feature_names()\n",
    " \n",
    "#get tfidf vector for first document\n",
    "first_document_vector=tf_idf_vector[0]\n",
    " \n",
    "#print the scores\n",
    "df = pd.DataFrame(first_document_vector.T.todense(), index=feature_names, columns=[\"tfidf\"])\n",
    "df.sort_values(by=[\"tfidf\"],ascending=False)"
   ]
  },
  {
   "cell_type": "markdown",
   "metadata": {},
   "source": [
    "---"
   ]
  },
  {
   "cell_type": "markdown",
   "metadata": {},
   "source": [
    "## PLSA on \"abcnews'' Dataset"
   ]
  },
  {
   "cell_type": "code",
   "execution_count": 10,
   "metadata": {},
   "outputs": [],
   "source": [
    "df=pd.read_csv('abcnews-date-text.csv',error_bad_lines=False)"
   ]
  },
  {
   "cell_type": "code",
   "execution_count": 11,
   "metadata": {},
   "outputs": [
    {
     "data": {
      "text/html": [
       "<div>\n",
       "<style scoped>\n",
       "    .dataframe tbody tr th:only-of-type {\n",
       "        vertical-align: middle;\n",
       "    }\n",
       "\n",
       "    .dataframe tbody tr th {\n",
       "        vertical-align: top;\n",
       "    }\n",
       "\n",
       "    .dataframe thead th {\n",
       "        text-align: right;\n",
       "    }\n",
       "</style>\n",
       "<table border=\"1\" class=\"dataframe\">\n",
       "  <thead>\n",
       "    <tr style=\"text-align: right;\">\n",
       "      <th></th>\n",
       "      <th>publish_date</th>\n",
       "      <th>headline_text</th>\n",
       "    </tr>\n",
       "  </thead>\n",
       "  <tbody>\n",
       "    <tr>\n",
       "      <th>0</th>\n",
       "      <td>20030219</td>\n",
       "      <td>aba decides against community broadcasting lic...</td>\n",
       "    </tr>\n",
       "    <tr>\n",
       "      <th>1</th>\n",
       "      <td>20030219</td>\n",
       "      <td>act fire witnesses must be aware of defamation</td>\n",
       "    </tr>\n",
       "    <tr>\n",
       "      <th>2</th>\n",
       "      <td>20030219</td>\n",
       "      <td>a g calls for infrastructure protection summit</td>\n",
       "    </tr>\n",
       "    <tr>\n",
       "      <th>3</th>\n",
       "      <td>20030219</td>\n",
       "      <td>air nz staff in aust strike for pay rise</td>\n",
       "    </tr>\n",
       "    <tr>\n",
       "      <th>4</th>\n",
       "      <td>20030219</td>\n",
       "      <td>air nz strike to affect australian travellers</td>\n",
       "    </tr>\n",
       "    <tr>\n",
       "      <th>5</th>\n",
       "      <td>20030219</td>\n",
       "      <td>ambitious olsson wins triple jump</td>\n",
       "    </tr>\n",
       "    <tr>\n",
       "      <th>6</th>\n",
       "      <td>20030219</td>\n",
       "      <td>antic delighted with record breaking barca</td>\n",
       "    </tr>\n",
       "    <tr>\n",
       "      <th>7</th>\n",
       "      <td>20030219</td>\n",
       "      <td>aussie qualifier stosur wastes four memphis match</td>\n",
       "    </tr>\n",
       "    <tr>\n",
       "      <th>8</th>\n",
       "      <td>20030219</td>\n",
       "      <td>aust addresses un security council over iraq</td>\n",
       "    </tr>\n",
       "    <tr>\n",
       "      <th>9</th>\n",
       "      <td>20030219</td>\n",
       "      <td>australia is locked into war timetable opp</td>\n",
       "    </tr>\n",
       "    <tr>\n",
       "      <th>10</th>\n",
       "      <td>20030219</td>\n",
       "      <td>australia to contribute 10 million in aid to iraq</td>\n",
       "    </tr>\n",
       "    <tr>\n",
       "      <th>11</th>\n",
       "      <td>20030219</td>\n",
       "      <td>barca take record as robson celebrates birthda...</td>\n",
       "    </tr>\n",
       "    <tr>\n",
       "      <th>12</th>\n",
       "      <td>20030219</td>\n",
       "      <td>bathhouse plans move ahead</td>\n",
       "    </tr>\n",
       "    <tr>\n",
       "      <th>13</th>\n",
       "      <td>20030219</td>\n",
       "      <td>big hopes for launceston cycling championship</td>\n",
       "    </tr>\n",
       "    <tr>\n",
       "      <th>14</th>\n",
       "      <td>20030219</td>\n",
       "      <td>big plan to boost paroo water supplies</td>\n",
       "    </tr>\n",
       "    <tr>\n",
       "      <th>15</th>\n",
       "      <td>20030219</td>\n",
       "      <td>blizzard buries united states in bills</td>\n",
       "    </tr>\n",
       "    <tr>\n",
       "      <th>16</th>\n",
       "      <td>20030219</td>\n",
       "      <td>brigadier dismisses reports troops harassed in</td>\n",
       "    </tr>\n",
       "    <tr>\n",
       "      <th>17</th>\n",
       "      <td>20030219</td>\n",
       "      <td>british combat troops arriving daily in kuwait</td>\n",
       "    </tr>\n",
       "    <tr>\n",
       "      <th>18</th>\n",
       "      <td>20030219</td>\n",
       "      <td>bryant leads lakers to double overtime win</td>\n",
       "    </tr>\n",
       "    <tr>\n",
       "      <th>19</th>\n",
       "      <td>20030219</td>\n",
       "      <td>bushfire victims urged to see centrelink</td>\n",
       "    </tr>\n",
       "  </tbody>\n",
       "</table>\n",
       "</div>"
      ],
      "text/plain": [
       "    publish_date                                      headline_text\n",
       "0       20030219  aba decides against community broadcasting lic...\n",
       "1       20030219     act fire witnesses must be aware of defamation\n",
       "2       20030219     a g calls for infrastructure protection summit\n",
       "3       20030219           air nz staff in aust strike for pay rise\n",
       "4       20030219      air nz strike to affect australian travellers\n",
       "5       20030219                  ambitious olsson wins triple jump\n",
       "6       20030219         antic delighted with record breaking barca\n",
       "7       20030219  aussie qualifier stosur wastes four memphis match\n",
       "8       20030219       aust addresses un security council over iraq\n",
       "9       20030219         australia is locked into war timetable opp\n",
       "10      20030219  australia to contribute 10 million in aid to iraq\n",
       "11      20030219  barca take record as robson celebrates birthda...\n",
       "12      20030219                         bathhouse plans move ahead\n",
       "13      20030219      big hopes for launceston cycling championship\n",
       "14      20030219             big plan to boost paroo water supplies\n",
       "15      20030219             blizzard buries united states in bills\n",
       "16      20030219     brigadier dismisses reports troops harassed in\n",
       "17      20030219     british combat troops arriving daily in kuwait\n",
       "18      20030219         bryant leads lakers to double overtime win\n",
       "19      20030219           bushfire victims urged to see centrelink"
      ]
     },
     "execution_count": 11,
     "metadata": {},
     "output_type": "execute_result"
    }
   ],
   "source": [
    "df.head(20)"
   ]
  },
  {
   "cell_type": "code",
   "execution_count": 12,
   "metadata": {},
   "outputs": [],
   "source": [
    "data_text = df[['headline_text']].astype('str')"
   ]
  },
  {
   "cell_type": "code",
   "execution_count": 13,
   "metadata": {},
   "outputs": [
    {
     "data": {
      "text/plain": [
       "(1186018, 1)"
      ]
     },
     "execution_count": 13,
     "metadata": {},
     "output_type": "execute_result"
    }
   ],
   "source": [
    "data_text.shape"
   ]
  },
  {
   "cell_type": "code",
   "execution_count": 14,
   "metadata": {},
   "outputs": [],
   "source": [
    "data_text=data_text.loc[1:100000,:]"
   ]
  },
  {
   "cell_type": "code",
   "execution_count": 15,
   "metadata": {},
   "outputs": [
    {
     "data": {
      "text/plain": [
       "(100000, 1)"
      ]
     },
     "execution_count": 15,
     "metadata": {},
     "output_type": "execute_result"
    }
   ],
   "source": [
    "data_text.shape"
   ]
  },
  {
   "cell_type": "code",
   "execution_count": 17,
   "metadata": {},
   "outputs": [],
   "source": [
    "stopw=stopwords.words('english')\n",
    "stopw\n",
    "def stopwords_remove(x):\n",
    "    terms=x.split()\n",
    "    terms=[w for w in terms if w not in stopw]\n",
    "    sentence=' '.join(terms)\n",
    "    return sentence\n",
    "data_text['Refined_headlines']=data_text['headline_text'].apply(lambda x: stopwords_remove(x))"
   ]
  },
  {
   "cell_type": "code",
   "execution_count": 18,
   "metadata": {},
   "outputs": [],
   "source": [
    "def word_count(x):\n",
    "    terms = x.split()\n",
    "    return len(terms)\n",
    "data_text['Word_Count']=data_text['headline_text'].apply(lambda x: word_count(x))"
   ]
  },
  {
   "cell_type": "code",
   "execution_count": 19,
   "metadata": {},
   "outputs": [
    {
     "data": {
      "text/html": [
       "<div>\n",
       "<style scoped>\n",
       "    .dataframe tbody tr th:only-of-type {\n",
       "        vertical-align: middle;\n",
       "    }\n",
       "\n",
       "    .dataframe tbody tr th {\n",
       "        vertical-align: top;\n",
       "    }\n",
       "\n",
       "    .dataframe thead th {\n",
       "        text-align: right;\n",
       "    }\n",
       "</style>\n",
       "<table border=\"1\" class=\"dataframe\">\n",
       "  <thead>\n",
       "    <tr style=\"text-align: right;\">\n",
       "      <th></th>\n",
       "      <th>headline_text</th>\n",
       "      <th>Refined_headlines</th>\n",
       "      <th>Word_Count</th>\n",
       "    </tr>\n",
       "  </thead>\n",
       "  <tbody>\n",
       "    <tr>\n",
       "      <th>1</th>\n",
       "      <td>act fire witnesses must be aware of defamation</td>\n",
       "      <td>act fire witnesses must aware defamation</td>\n",
       "      <td>8</td>\n",
       "    </tr>\n",
       "    <tr>\n",
       "      <th>2</th>\n",
       "      <td>a g calls for infrastructure protection summit</td>\n",
       "      <td>g calls infrastructure protection summit</td>\n",
       "      <td>7</td>\n",
       "    </tr>\n",
       "    <tr>\n",
       "      <th>3</th>\n",
       "      <td>air nz staff in aust strike for pay rise</td>\n",
       "      <td>air nz staff aust strike pay rise</td>\n",
       "      <td>9</td>\n",
       "    </tr>\n",
       "    <tr>\n",
       "      <th>4</th>\n",
       "      <td>air nz strike to affect australian travellers</td>\n",
       "      <td>air nz strike affect australian travellers</td>\n",
       "      <td>7</td>\n",
       "    </tr>\n",
       "    <tr>\n",
       "      <th>5</th>\n",
       "      <td>ambitious olsson wins triple jump</td>\n",
       "      <td>ambitious olsson wins triple jump</td>\n",
       "      <td>5</td>\n",
       "    </tr>\n",
       "  </tbody>\n",
       "</table>\n",
       "</div>"
      ],
      "text/plain": [
       "                                    headline_text  \\\n",
       "1  act fire witnesses must be aware of defamation   \n",
       "2  a g calls for infrastructure protection summit   \n",
       "3        air nz staff in aust strike for pay rise   \n",
       "4   air nz strike to affect australian travellers   \n",
       "5               ambitious olsson wins triple jump   \n",
       "\n",
       "                            Refined_headlines  Word_Count  \n",
       "1    act fire witnesses must aware defamation           8  \n",
       "2    g calls infrastructure protection summit           7  \n",
       "3           air nz staff aust strike pay rise           9  \n",
       "4  air nz strike affect australian travellers           7  \n",
       "5           ambitious olsson wins triple jump           5  "
      ]
     },
     "execution_count": 19,
     "metadata": {},
     "output_type": "execute_result"
    }
   ],
   "source": [
    "data_text.head()"
   ]
  },
  {
   "cell_type": "code",
   "execution_count": 20,
   "metadata": {},
   "outputs": [
    {
     "data": {
      "text/plain": [
       "count    100000.000000\n",
       "mean          6.317600\n",
       "std           1.314324\n",
       "min           1.000000\n",
       "25%           5.000000\n",
       "50%           6.000000\n",
       "75%           7.000000\n",
       "max          12.000000\n",
       "Name: Word_Count, dtype: float64"
      ]
     },
     "execution_count": 20,
     "metadata": {},
     "output_type": "execute_result"
    }
   ],
   "source": [
    "data_text['Word_Count'].describe()"
   ]
  },
  {
   "cell_type": "code",
   "execution_count": 21,
   "metadata": {},
   "outputs": [
    {
     "data": {
      "image/png": "[encoded data removed]",
      "text/plain": [
       "<Figure size 720x360 with 1 Axes>"
      ]
     },
     "metadata": {
      "needs_background": "light"
     },
     "output_type": "display_data"
    }
   ],
   "source": [
    "fig = plt.figure(figsize=(10,5))\n",
    "\n",
    "plt.hist(\n",
    "    data_text['Word_Count'],\n",
    "    bins=20,\n",
    "    color='#60505C'\n",
    ")\n",
    "\n",
    "plt.title('Distribution - Article Word Count', fontsize=16)\n",
    "plt.ylabel('Frequency', fontsize=12)\n",
    "plt.xlabel('Word Count', fontsize=12)\n",
    "\n",
    "plt.show()"
   ]
  },
  {
   "cell_type": "code",
   "execution_count": 22,
   "metadata": {},
   "outputs": [
    {
     "data": {
      "image/png": "[encoded data removed]",
      "text/plain": [
       "<Figure size 288x648 with 1 Axes>"
      ]
     },
     "metadata": {},
     "output_type": "display_data"
    }
   ],
   "source": [
    "import seaborn as sns\n",
    "sns.set_style('darkgrid')\n",
    "\n",
    "fig = plt.figure(figsize=(4,9))\n",
    "\n",
    "sns.boxplot(\n",
    "    data_text['Word_Count'],\n",
    "    orient='v',\n",
    "    width=.5,\n",
    "    color='#ff8080'\n",
    ")\n",
    "\n",
    "plt.ylabel(\"Word Count\", fontsize=12)\n",
    "plt.title('Distribution - Article Word Count', fontsize=16)\n",
    "\n",
    "plt.show()"
   ]
  },
  {
   "cell_type": "code",
   "execution_count": 23,
   "metadata": {},
   "outputs": [],
   "source": [
    "headline_sentences=[''.join(text) for text in data_text['Refined_headlines']]"
   ]
  },
  {
   "cell_type": "code",
   "execution_count": 24,
   "metadata": {},
   "outputs": [],
   "source": [
    "vectorizer = CountVectorizer(analyzer='word', max_features=5000);\n",
    "x_counts = vectorizer.fit_transform(headline_sentences)"
   ]
  },
  {
   "cell_type": "code",
   "execution_count": 25,
   "metadata": {},
   "outputs": [
    {
     "data": {
      "text/plain": [
       "<100000x5000 sparse matrix of type '<class 'numpy.int64'>'\n",
       "\twith 449845 stored elements in Compressed Sparse Row format>"
      ]
     },
     "execution_count": 25,
     "metadata": {},
     "output_type": "execute_result"
    }
   ],
   "source": [
    "x_counts"
   ]
  },
  {
   "cell_type": "code",
   "execution_count": 26,
   "metadata": {},
   "outputs": [],
   "source": [
    "transformer = TfidfTransformer(smooth_idf=False);\n",
    "x_tfidf = transformer.fit_transform(x_counts);"
   ]
  },
  {
   "cell_type": "code",
   "execution_count": 27,
   "metadata": {},
   "outputs": [
    {
     "data": {
      "text/plain": [
       "<100000x5000 sparse matrix of type '<class 'numpy.float64'>'\n",
       "\twith 449845 stored elements in Compressed Sparse Row format>"
      ]
     },
     "execution_count": 27,
     "metadata": {},
     "output_type": "execute_result"
    }
   ],
   "source": [
    "x_tfidf"
   ]
  },
  {
   "cell_type": "code",
   "execution_count": 28,
   "metadata": {},
   "outputs": [],
   "source": [
    "xtfidf_norm = normalize(x_tfidf, norm='l1', axis=1)"
   ]
  },
  {
   "cell_type": "code",
   "execution_count": 29,
   "metadata": {},
   "outputs": [
    {
     "data": {
      "text/plain": [
       "NMF(alpha=0.0, beta_loss='frobenius', init='nndsvd', l1_ratio=0.0, max_iter=200,\n",
       "    n_components=10, random_state=None, shuffle=False, solver='cd', tol=0.0001,\n",
       "    verbose=0)"
      ]
     },
     "execution_count": 29,
     "metadata": {},
     "output_type": "execute_result"
    }
   ],
   "source": [
    "#number of topics\n",
    "num_topics=10\n",
    "#obtain a NMF model.\n",
    "model = NMF(n_components=num_topics, init='nndsvd');\n",
    "#fit the model\n",
    "model.fit(xtfidf_norm)"
   ]
  },
  {
   "cell_type": "code",
   "execution_count": 31,
   "metadata": {},
   "outputs": [],
   "source": [
    "def get_nmf_topics(model, n_top_words):\n",
    "    \n",
    "    #the word ids obtained need to be reverse-mapped to the words so we can print the topic names.\n",
    "    feat_names = vectorizer.get_feature_names()\n",
    "    \n",
    "    word_dict = {};\n",
    "    for i in range(num_topics):\n",
    "        \n",
    "        #for each topic, obtain the largest values, and add the words they map to into the dictionary.\n",
    "        words_ids = model.components_[i].argsort()[:-n_top_words - 1:-1]\n",
    "        words = [feat_names[key] for key in words_ids]\n",
    "        word_dict['Topic # ' + '{:02d}'.format(i+1)] = words;\n",
    "    \n",
    "    return pd.DataFrame(word_dict)"
   ]
  },
  {
   "cell_type": "code",
   "execution_count": 32,
   "metadata": {},
   "outputs": [
    {
     "data": {
      "text/html": [
       "<div>\n",
       "<style scoped>\n",
       "    .dataframe tbody tr th:only-of-type {\n",
       "        vertical-align: middle;\n",
       "    }\n",
       "\n",
       "    .dataframe tbody tr th {\n",
       "        vertical-align: top;\n",
       "    }\n",
       "\n",
       "    .dataframe thead th {\n",
       "        text-align: right;\n",
       "    }\n",
       "</style>\n",
       "<table border=\"1\" class=\"dataframe\">\n",
       "  <thead>\n",
       "    <tr style=\"text-align: right;\">\n",
       "      <th></th>\n",
       "      <th>Topic # 01</th>\n",
       "      <th>Topic # 02</th>\n",
       "      <th>Topic # 03</th>\n",
       "      <th>Topic # 04</th>\n",
       "      <th>Topic # 05</th>\n",
       "      <th>Topic # 06</th>\n",
       "      <th>Topic # 07</th>\n",
       "      <th>Topic # 08</th>\n",
       "      <th>Topic # 09</th>\n",
       "      <th>Topic # 10</th>\n",
       "    </tr>\n",
       "  </thead>\n",
       "  <tbody>\n",
       "    <tr>\n",
       "      <th>0</th>\n",
       "      <td>police</td>\n",
       "      <td>us</td>\n",
       "      <td>man</td>\n",
       "      <td>govt</td>\n",
       "      <td>new</td>\n",
       "      <td>council</td>\n",
       "      <td>dies</td>\n",
       "      <td>says</td>\n",
       "      <td>water</td>\n",
       "      <td>plan</td>\n",
       "    </tr>\n",
       "    <tr>\n",
       "      <th>1</th>\n",
       "      <td>probe</td>\n",
       "      <td>iraq</td>\n",
       "      <td>charged</td>\n",
       "      <td>urged</td>\n",
       "      <td>zealand</td>\n",
       "      <td>considers</td>\n",
       "      <td>crash</td>\n",
       "      <td>report</td>\n",
       "      <td>back</td>\n",
       "      <td>group</td>\n",
       "    </tr>\n",
       "    <tr>\n",
       "      <th>2</th>\n",
       "      <td>investigate</td>\n",
       "      <td>killed</td>\n",
       "      <td>court</td>\n",
       "      <td>nsw</td>\n",
       "      <td>laws</td>\n",
       "      <td>rejects</td>\n",
       "      <td>car</td>\n",
       "      <td>pm</td>\n",
       "      <td>call</td>\n",
       "      <td>support</td>\n",
       "    </tr>\n",
       "    <tr>\n",
       "      <th>3</th>\n",
       "      <td>missing</td>\n",
       "      <td>troops</td>\n",
       "      <td>murder</td>\n",
       "      <td>vic</td>\n",
       "      <td>president</td>\n",
       "      <td>land</td>\n",
       "      <td>woman</td>\n",
       "      <td>iraq</td>\n",
       "      <td>cup</td>\n",
       "      <td>residents</td>\n",
       "    </tr>\n",
       "    <tr>\n",
       "      <th>4</th>\n",
       "      <td>search</td>\n",
       "      <td>iraqi</td>\n",
       "      <td>face</td>\n",
       "      <td>wa</td>\n",
       "      <td>hospital</td>\n",
       "      <td>backs</td>\n",
       "      <td>killed</td>\n",
       "      <td>minister</td>\n",
       "      <td>world</td>\n",
       "      <td>backs</td>\n",
       "    </tr>\n",
       "    <tr>\n",
       "      <th>5</th>\n",
       "      <td>death</td>\n",
       "      <td>war</td>\n",
       "      <td>jailed</td>\n",
       "      <td>qld</td>\n",
       "      <td>chief</td>\n",
       "      <td>seeks</td>\n",
       "      <td>hospital</td>\n",
       "      <td>mp</td>\n",
       "      <td>fire</td>\n",
       "      <td>rejects</td>\n",
       "    </tr>\n",
       "    <tr>\n",
       "      <th>6</th>\n",
       "      <td>shooting</td>\n",
       "      <td>baghdad</td>\n",
       "      <td>charges</td>\n",
       "      <td>sa</td>\n",
       "      <td>york</td>\n",
       "      <td>merger</td>\n",
       "      <td>accident</td>\n",
       "      <td>war</td>\n",
       "      <td>win</td>\n",
       "      <td>development</td>\n",
       "    </tr>\n",
       "    <tr>\n",
       "      <th>7</th>\n",
       "      <td>hunt</td>\n",
       "      <td>soldier</td>\n",
       "      <td>charge</td>\n",
       "      <td>accused</td>\n",
       "      <td>deal</td>\n",
       "      <td>approves</td>\n",
       "      <td>two</td>\n",
       "      <td>chief</td>\n",
       "      <td>boost</td>\n",
       "      <td>mayor</td>\n",
       "    </tr>\n",
       "    <tr>\n",
       "      <th>8</th>\n",
       "      <td>fatal</td>\n",
       "      <td>soldiers</td>\n",
       "      <td>stabbing</td>\n",
       "      <td>fed</td>\n",
       "      <td>centre</td>\n",
       "      <td>consider</td>\n",
       "      <td>road</td>\n",
       "      <td>opposition</td>\n",
       "      <td>set</td>\n",
       "      <td>welcomes</td>\n",
       "    </tr>\n",
       "    <tr>\n",
       "      <th>9</th>\n",
       "      <td>seek</td>\n",
       "      <td>attack</td>\n",
       "      <td>missing</td>\n",
       "      <td>local</td>\n",
       "      <td>mayor</td>\n",
       "      <td>decision</td>\n",
       "      <td>aged</td>\n",
       "      <td>bush</td>\n",
       "      <td>australia</td>\n",
       "      <td>concerns</td>\n",
       "    </tr>\n",
       "    <tr>\n",
       "      <th>10</th>\n",
       "      <td>find</td>\n",
       "      <td>forces</td>\n",
       "      <td>faces</td>\n",
       "      <td>funding</td>\n",
       "      <td>home</td>\n",
       "      <td>development</td>\n",
       "      <td>highway</td>\n",
       "      <td>must</td>\n",
       "      <td>wins</td>\n",
       "      <td>public</td>\n",
       "    </tr>\n",
       "    <tr>\n",
       "      <th>11</th>\n",
       "      <td>arrest</td>\n",
       "      <td>un</td>\n",
       "      <td>assault</td>\n",
       "      <td>defends</td>\n",
       "      <td>coach</td>\n",
       "      <td>claims</td>\n",
       "      <td>injured</td>\n",
       "      <td>pressure</td>\n",
       "      <td>restrictions</td>\n",
       "      <td>management</td>\n",
       "    </tr>\n",
       "    <tr>\n",
       "      <th>12</th>\n",
       "      <td>drug</td>\n",
       "      <td>two</td>\n",
       "      <td>attack</td>\n",
       "      <td>tas</td>\n",
       "      <td>announces</td>\n",
       "      <td>rise</td>\n",
       "      <td>fatal</td>\n",
       "      <td>howard</td>\n",
       "      <td>may</td>\n",
       "      <td>merger</td>\n",
       "    </tr>\n",
       "    <tr>\n",
       "      <th>13</th>\n",
       "      <td>road</td>\n",
       "      <td>bush</td>\n",
       "      <td>sydney</td>\n",
       "      <td>act</td>\n",
       "      <td>signs</td>\n",
       "      <td>budget</td>\n",
       "      <td>plane</td>\n",
       "      <td>group</td>\n",
       "      <td>england</td>\n",
       "      <td>act</td>\n",
       "    </tr>\n",
       "    <tr>\n",
       "      <th>14</th>\n",
       "      <td>continue</td>\n",
       "      <td>military</td>\n",
       "      <td>guilty</td>\n",
       "      <td>funds</td>\n",
       "      <td>year</td>\n",
       "      <td>mayor</td>\n",
       "      <td>dead</td>\n",
       "      <td>union</td>\n",
       "      <td>top</td>\n",
       "      <td>sought</td>\n",
       "    </tr>\n",
       "    <tr>\n",
       "      <th>15</th>\n",
       "      <td>car</td>\n",
       "      <td>report</td>\n",
       "      <td>trial</td>\n",
       "      <td>report</td>\n",
       "      <td>appoints</td>\n",
       "      <td>wants</td>\n",
       "      <td>three</td>\n",
       "      <td>still</td>\n",
       "      <td>health</td>\n",
       "      <td>hospital</td>\n",
       "    </tr>\n",
       "    <tr>\n",
       "      <th>16</th>\n",
       "      <td>name</td>\n",
       "      <td>open</td>\n",
       "      <td>arrested</td>\n",
       "      <td>nt</td>\n",
       "      <td>pm</td>\n",
       "      <td>funds</td>\n",
       "      <td>bus</td>\n",
       "      <td>time</td>\n",
       "      <td>claims</td>\n",
       "      <td>power</td>\n",
       "    </tr>\n",
       "    <tr>\n",
       "      <th>17</th>\n",
       "      <td>body</td>\n",
       "      <td>korea</td>\n",
       "      <td>found</td>\n",
       "      <td>denies</td>\n",
       "      <td>ceo</td>\n",
       "      <td>rates</td>\n",
       "      <td>truck</td>\n",
       "      <td>nt</td>\n",
       "      <td>court</td>\n",
       "      <td>tourism</td>\n",
       "    </tr>\n",
       "    <tr>\n",
       "      <th>18</th>\n",
       "      <td>wa</td>\n",
       "      <td>bomb</td>\n",
       "      <td>search</td>\n",
       "      <td>considers</td>\n",
       "      <td>get</td>\n",
       "      <td>probe</td>\n",
       "      <td>boy</td>\n",
       "      <td>downer</td>\n",
       "      <td>lead</td>\n",
       "      <td>housing</td>\n",
       "    </tr>\n",
       "    <tr>\n",
       "      <th>19</th>\n",
       "      <td>murder</td>\n",
       "      <td>dollar</td>\n",
       "      <td>hospital</td>\n",
       "      <td>opposition</td>\n",
       "      <td>record</td>\n",
       "      <td>centre</td>\n",
       "      <td>fire</td>\n",
       "      <td>go</td>\n",
       "      <td>rain</td>\n",
       "      <td>port</td>\n",
       "    </tr>\n",
       "  </tbody>\n",
       "</table>\n",
       "</div>"
      ],
      "text/plain": [
       "     Topic # 01 Topic # 02 Topic # 03  Topic # 04 Topic # 05   Topic # 06  \\\n",
       "0        police         us        man        govt        new      council   \n",
       "1         probe       iraq    charged       urged    zealand    considers   \n",
       "2   investigate     killed      court         nsw       laws      rejects   \n",
       "3       missing     troops     murder         vic  president         land   \n",
       "4        search      iraqi       face          wa   hospital        backs   \n",
       "5         death        war     jailed         qld      chief        seeks   \n",
       "6      shooting    baghdad    charges          sa       york       merger   \n",
       "7          hunt    soldier     charge     accused       deal     approves   \n",
       "8         fatal   soldiers   stabbing         fed     centre     consider   \n",
       "9          seek     attack    missing       local      mayor     decision   \n",
       "10         find     forces      faces     funding       home  development   \n",
       "11       arrest         un    assault     defends      coach       claims   \n",
       "12         drug        two     attack         tas  announces         rise   \n",
       "13         road       bush     sydney         act      signs       budget   \n",
       "14     continue   military     guilty       funds       year        mayor   \n",
       "15          car     report      trial      report   appoints        wants   \n",
       "16         name       open   arrested          nt         pm        funds   \n",
       "17         body      korea      found      denies        ceo        rates   \n",
       "18           wa       bomb     search   considers        get        probe   \n",
       "19       murder     dollar   hospital  opposition     record       centre   \n",
       "\n",
       "   Topic # 07  Topic # 08    Topic # 09   Topic # 10  \n",
       "0        dies        says         water         plan  \n",
       "1       crash      report          back        group  \n",
       "2         car          pm          call      support  \n",
       "3       woman        iraq           cup    residents  \n",
       "4      killed    minister         world        backs  \n",
       "5    hospital          mp          fire      rejects  \n",
       "6    accident         war           win  development  \n",
       "7         two       chief         boost        mayor  \n",
       "8        road  opposition           set     welcomes  \n",
       "9        aged        bush     australia     concerns  \n",
       "10    highway        must          wins       public  \n",
       "11    injured    pressure  restrictions   management  \n",
       "12      fatal      howard           may       merger  \n",
       "13      plane       group       england          act  \n",
       "14       dead       union           top       sought  \n",
       "15      three       still        health     hospital  \n",
       "16        bus        time        claims        power  \n",
       "17      truck          nt         court      tourism  \n",
       "18        boy      downer          lead      housing  \n",
       "19       fire          go          rain         port  "
      ]
     },
     "execution_count": 32,
     "metadata": {},
     "output_type": "execute_result"
    }
   ],
   "source": [
    "get_nmf_topics(model, 20)"
   ]
  },
  {
   "cell_type": "code",
   "execution_count": null,
   "metadata": {},
   "outputs": [],
   "source": []
  }
 ],
 "metadata": {
  "kernelspec": {
   "display_name": "Python 3",
   "language": "python",
   "name": "python3"
  },
  "language_info": {
   "codemirror_mode": {
    "name": "ipython",
    "version": 3
   },
   "file_extension": ".py",
   "mimetype": "text/x-python",
   "name": "python",
   "nbconvert_exporter": "python",
   "pygments_lexer": "ipython3",
   "version": "3.7.7"
  }
 },
 "nbformat": 4,
 "nbformat_minor": 4
}
